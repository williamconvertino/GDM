{
 "cells": [
  {
   "cell_type": "code",
   "execution_count": 1,
   "metadata": {},
   "outputs": [
    {
     "name": "stdout",
     "output_type": "stream",
     "text": [
      "Failed to install PyTorch\n",
      "Requirements installed\n"
     ]
    },
    {
     "name": "stderr",
     "output_type": "stream",
     "text": [
      "c:\\Users\\will\\AppData\\Local\\Programs\\Python\\Python310\\lib\\site-packages\\tqdm\\auto.py:21: TqdmWarning: IProgress not found. Please update jupyter and ipywidgets. See https://ipywidgets.readthedocs.io/en/stable/user_install.html\n",
      "  from .autonotebook import tqdm as notebook_tqdm\n"
     ]
    }
   ],
   "source": [
    "import notebook_setup\n",
    "import torch\n",
    "import os\n",
    "import re\n",
    "from src.models import GPT, gdGPT, GPTConfig\n",
    "from src.datasets import TinyStoriesDataset\n",
    "from src.tokenizers import TinyStoriesTokenizer\n",
    "from src.evaluation import evaluate_model_outputs"
   ]
  },
  {
   "cell_type": "code",
   "execution_count": 2,
   "metadata": {},
   "outputs": [],
   "source": [
    "tokenizer = TinyStoriesTokenizer()"
   ]
  },
  {
   "cell_type": "code",
   "execution_count": 3,
   "metadata": {},
   "outputs": [],
   "source": [
    "CONTEXT_SIZE = 256\n",
    "D_EMBED = 512\n",
    "D_FF = D_EMBED * 4\n",
    "N_LAYER = 1\n",
    "N_HEAD = 8\n",
    "USE_ATTN = True\n",
    "USE_FF = False\n",
    "\n",
    "VOCAB_SIZE = len(tokenizer)"
   ]
  },
  {
   "cell_type": "code",
   "execution_count": 4,
   "metadata": {},
   "outputs": [],
   "source": [
    "config = GPTConfig(\n",
    "  context_size=CONTEXT_SIZE,\n",
    "  d_embed=D_EMBED,\n",
    "  d_ff=D_FF,\n",
    "  n_layer=N_LAYER,\n",
    "  n_head=N_HEAD,\n",
    "  use_attn=USE_ATTN,\n",
    "  use_ff=USE_FF,\n",
    "  vocab_size=VOCAB_SIZE\n",
    ")"
   ]
  },
  {
   "cell_type": "code",
   "execution_count": 5,
   "metadata": {},
   "outputs": [
    {
     "name": "stdout",
     "output_type": "stream",
     "text": [
      "number of parameters: 13.51M\n"
     ]
    }
   ],
   "source": [
    "model = GPT(config)"
   ]
  },
  {
   "cell_type": "code",
   "execution_count": 6,
   "metadata": {},
   "outputs": [
    {
     "name": "stdout",
     "output_type": "stream",
     "text": [
      "Loaded model GPT_8H_1L_512E_noFF from epoch 1\n",
      "====================================================================================================\n",
      "Single Word:\n",
      "====================================================================================================\n"
     ]
    },
    {
     "name": "stderr",
     "output_type": "stream",
     "text": [
      "c:\\Users\\will\\Desktop\\gdGPT\\src\\evaluation\\evaluate.py:57: FutureWarning: You are using `torch.load` with `weights_only=False` (the current default value), which uses the default pickle module implicitly. It is possible to construct malicious pickle data which will execute arbitrary code during unpickling (See https://github.com/pytorch/pytorch/blob/main/SECURITY.md#untrusted-models for more details). In a future release, the default value for `weights_only` will be flipped to `True`. This limits the functions that could be executed during unpickling. Arbitrary objects will no longer be allowed to be loaded via this mode unless they are explicitly allowlisted by the user via `torch.serialization.add_safe_globals`. We recommend you start setting `weights_only=True` for any use case where you don't have full control of the loaded file. Please open an issue on GitHub for any issues related to this experimental feature.\n",
      "  model_state_dict = torch.load(f'{MODEL_BASE_DIR}/{model.name}/{model.name}_epoch_{most_recent_epoch}.pt', map_location=torch.device('cpu'))\n"
     ]
    },
    {
     "name": "stdout",
     "output_type": "stream",
     "text": [
      "Once [ upon a time, there was a little girl named Lily. She loved to play outside in the sunshine. One day, she saw a big, scary monster. It was a big, scary monster! The monster was scared and didn't know what to do.\n",
      "\n",
      "Lily's mom saw her and said, \"Don't worry, Lily. I'll help you.\"\n",
      "\n",
      "Lily's mom took her to the monster and said, \"Thank you, mom. I'm here to help you.\"]\n",
      "----------------------------------------------------------------------------------------------------\n",
      "a [aaaaaaaaaaaaaaaaaaaaaaaaaaaaaaaaaaaaaaaaaaaaaaaaaaaaaaaaaaaaaaaaaaaaaaaaaaaaaaaaaaaaaaaaaaaaaaaaaaaa]\n",
      "----------------------------------------------------------------------------------------------------\n",
      "to [.\n",
      "\n",
      "\"I'm sorry, I didn't mean to make you mad,\" she said. \"It's okay, Lily. I'm glad you're okay. I'm glad you're okay. I'm glad you're okay. I'm glad you're okay. I'm glad you're okay. I'm glad you're okay. I'm glad you're okay. I'm glad you're okay. I'm glad you're okay. I'm glad you're okay. I'm glad]\n",
      "----------------------------------------------------------------------------------------------------\n",
      "he [ and the little girl was so happy. She thanked the little girl and ran off to play with her friends.Once upon a time, there was a little girl named Lily. She loved to play outside in the sunshine. One day, she saw a big, scary monster. It was very scary.\n",
      "\n",
      "Lily's mom told her to be brave and she wanted to go outside. She said she was brave and strong. She said she was brave and strong. She said she was brave and]\n",
      "----------------------------------------------------------------------------------------------------\n",
      "====================================================================================================\n",
      "Short Texts:\n",
      "====================================================================================================\n",
      "Once upon a time, [ there was a little girl named Lily. She loved to play outside in the sunshine. One day, she saw a big, scary monster. It was a big, scary monster! The monster was scared and didn't know what to do.\n",
      "\n",
      "Lily's mom saw her and said, \"Don't worry, Lily. I'll help you.\"\n",
      "\n",
      "Lily's mom took her to the monster and said, \"Thank you, mom. I'm here to help you.\"\n",
      "\n",
      "Lily smiled]\n",
      "----------------------------------------------------------------------------------------------------\n",
      "In a land far far away, [ there was a big storm. The wind was very strong and strong. The wind blew and the storm was strong. The wind blew hard and the storm blew hard. The wind blew hard and the storm blew hard. The wind blew hard and blew hard. The wind blew hard and blew hard. The wind blew hard and blew hard. The wind blew hard and blew hard. The wind blew hard and blew hard. The wind blew hard and blew hard. The wind blew hard and blew hard. The]\n",
      "----------------------------------------------------------------------------------------------------\n",
      "There was a princess named [ Lily. She loved to play with her toys and her friends. One day, Lily's mom told her to be careful and not to hurt her. Lily didn't want to hurt her.\n",
      "\n",
      "Lily's mom told her to be careful and not to hurt her. Lily didn't listen to her mom. She told her that she was sorry and didn't mean to hurt her. She told her mom about her and her mom hugged her.\n",
      "\n",
      "Her mom hugged her and said, \"It]\n",
      "----------------------------------------------------------------------------------------------------\n",
      "She lived in a castle with [ her family. She was very happy and loved to play with her toys. She had a lot of fun.\n",
      "\n",
      "One day, she saw a big dog in the park. The dog was barking and running around. The dog was barking and growling. The dog was barking and growling. The dog barked and growled at her.\n",
      "\n",
      "The dog barked and growled at Lily. The dog growled and barked at her. The dog growled and barked at Lily. Lily was scared and ran away.\n",
      "]\n",
      "----------------------------------------------------------------------------------------------------\n",
      "She had a pet dragon named [ Max. Max was very happy. Max was a good friend. Max was very happy. Max loved to play with his toys and run around. Max was so happy to have a new friend.Once upon a time, there was a little girl named Lily. She loved to play outside in the sunshine. One day, Max saw a big, scary monster. Max was scared and ran away. Max was very sad because he wanted to play with his toys.\n",
      "\n",
      "Max's mom saw him]\n",
      "----------------------------------------------------------------------------------------------------\n",
      "The dragon was very [ happy. He had a big smile on his face. He was so happy that he had made a new friend.Once upon a time, there was a little girl named Lily. She loved to play outside in the sunshine. One day, she saw a big tree with lots of leaves. She wanted to climb it, but she was too small.\n",
      "\n",
      "Lily asked her mom if she could go outside and play. Her mom said yes, but she was too small. She said she was]\n",
      "----------------------------------------------------------------------------------------------------\n",
      "One day, the princess [ was walking in the forest. She saw a big, scary monster. The monster was scared and didn't know what to do.\n",
      "\n",
      "The monster was so scared that he ran away. He tried to run away, but the monster was too fast. He was so scared that he ran away.\n",
      "\n",
      "The monster chased after him, but he was too fast. He ran as fast as he could. He was faster and faster, but he was faster. He caught up with his claws and]\n",
      "----------------------------------------------------------------------------------------------------\n",
      "====================================================================================================\n",
      "Long Texts:\n",
      "====================================================================================================\n",
      "Once upon a time, in a land far far away, there was a princess named Alice. She lived in a castle with her pet dragon named Bob. The dragon was very friendly. One day, the princess went on a walk in the forest. [\n",
      "\n",
      "As she walked, she saw a big, scary dragon. The dragon was scared, but he was brave. He wanted to protect the dragon.\n",
      "\n",
      "The dragon was scared, but he knew he had to protect himself. He ran away from the dragon and hid behind a bush.\n",
      "\n",
      "The dragon was very scared and didn't know what to do. He thought he was brave and strong. He wanted to protect himself from danger.\n",
      "\n",
      "The dragon was brave and strong. He]\n",
      "----------------------------------------------------------------------------------------------------\n",
      "Long ago, in a kingdom by the sea, there was a king named Arthur. He lived in a castle with his queen. One day, the king went to [ the castle and saw a big castle. He wanted to play with the king.\n",
      "\n",
      "\"Hello, I am the king of the castle. I am the king of the castle. I am the king of the castle. I am the king of the castle. I am the king of the castle. I am the king of the castle. I am the king of the castle. I live in the castle. I live in the castle and live in the castle. I live in the castle and]\n",
      "----------------------------------------------------------------------------------------------------\n",
      "Deep in the heart of the forest, there was a fox named Max. Max was a good fox. [ Max was very happy and thanked his friend for being so kind.\n",
      "\n",
      "Max and his friend, Max, came over to play. Max was so happy to have a new friend. Max was so excited to play with Max. Max had a great day at Max and Max played together all day long. Max was so happy to have a new friend. Max was so happy to have a new friend.Once upon a time, there was a little girl named Lily. Max loved to play outside]\n",
      "----------------------------------------------------------------------------------------------------\n",
      "There once was a young boy named Dan. Dan liked to run more than anything in the world. One day, [ Dan was walking in the park when Dan saw a big, Dan. Dan was scared, but Dan was also curious. Dan was curious and wanted to explore. Dan was curious and Dan wanted to explore. Dan was curious and Dan decided to explore the world around him. Dan was curious and Dan followed Dan. Dan followed Dan to Dan's advice and Dan followed Dan to Dan's advice. Dancing Dancing Dancing Dancing Dancing Dancing Dancing Dancing Dancing Dancing Dancing]\n",
      "----------------------------------------------------------------------------------------------------\n",
      "In a small town lived a young girl named Lily. Lily was a [ big, brown dog named Max. Max loved to play with his toys and run around. One day, Max saw a big dog named Spot. Spot was very happy and wagged his tail.\n",
      "\n",
      "Lily and Max were playing with Spot. They wanted to run and jump and play with Spot. Spot barked and wagged his tail. Lily was happy to see Spot.\n",
      "\n",
      "Spot wagged his tail and licked Lily's face. Spot wagged his tail and licked Lily's face. Spot wagged his tail and]\n",
      "----------------------------------------------------------------------------------------------------\n"
     ]
    }
   ],
   "source": [
    "evaluate_model_outputs(model, tokenizer)"
   ]
  }
 ],
 "metadata": {
  "kernelspec": {
   "display_name": "Python 3",
   "language": "python",
   "name": "python3"
  },
  "language_info": {
   "codemirror_mode": {
    "name": "ipython",
    "version": 3
   },
   "file_extension": ".py",
   "mimetype": "text/x-python",
   "name": "python",
   "nbconvert_exporter": "python",
   "pygments_lexer": "ipython3",
   "version": "3.10.9"
  }
 },
 "nbformat": 4,
 "nbformat_minor": 2
}
