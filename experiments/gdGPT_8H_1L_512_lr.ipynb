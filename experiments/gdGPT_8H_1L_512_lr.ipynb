{
 "cells": [
  {
   "cell_type": "code",
   "execution_count": null,
   "metadata": {},
   "outputs": [],
   "source": [
    "import notebook_setup\n",
    "import torch\n",
    "from src.models import GPT, gdGPT, GPTConfig\n",
    "from src.datasets import TinyStoriesDataset\n",
    "from src.tokenizers import TinyStoriesTokenizer\n",
    "from src.training import train_model"
   ]
  },
  {
   "cell_type": "code",
   "execution_count": null,
   "metadata": {},
   "outputs": [],
   "source": [
    "torch.manual_seed(42)"
   ]
  },
  {
   "cell_type": "code",
   "execution_count": null,
   "metadata": {},
   "outputs": [],
   "source": [
    "tokenizer = TinyStoriesTokenizer()"
   ]
  },
  {
   "cell_type": "code",
   "execution_count": null,
   "metadata": {},
   "outputs": [],
   "source": [
    "CONTEXT_SIZE = 256\n",
    "D_EMBED = 512\n",
    "D_FF = D_EMBED * 4\n",
    "N_LAYER = 1\n",
    "N_HEAD = 8\n",
    "USE_ATTN = True\n",
    "USE_FF = False\n",
    "\n",
    "VOCAB_SIZE = len(tokenizer)"
   ]
  },
  {
   "cell_type": "code",
   "execution_count": null,
   "metadata": {},
   "outputs": [],
   "source": [
    "config = GPTConfig(\n",
    "  context_size=CONTEXT_SIZE,\n",
    "  d_embed=D_EMBED,\n",
    "  d_ff=D_FF,\n",
    "  n_layer=N_LAYER,\n",
    "  n_head=N_HEAD,\n",
    "  use_attn=USE_ATTN,\n",
    "  use_ff=USE_FF,\n",
    "  vocab_size=VOCAB_SIZE,\n",
    "  use_attn_lr=True,\n",
    ")"
   ]
  },
  {
   "cell_type": "code",
   "execution_count": null,
   "metadata": {},
   "outputs": [],
   "source": [
    "model = gdGPT(config)\n",
    "model.name += '_lr'"
   ]
  },
  {
   "cell_type": "code",
   "execution_count": null,
   "metadata": {},
   "outputs": [],
   "source": [
    "train_dataset = TinyStoriesDataset(tokenizer, 'train', context_size=CONTEXT_SIZE)\n",
    "val_dataset = TinyStoriesDataset(tokenizer, 'val', context_size=CONTEXT_SIZE)"
   ]
  },
  {
   "cell_type": "code",
   "execution_count": null,
   "metadata": {},
   "outputs": [],
   "source": [
    "train_model(model, train_dataset, val_dataset)"
   ]
  }
 ],
 "metadata": {
  "kernelspec": {
   "display_name": "Python 3",
   "language": "python",
   "name": "python3"
  },
  "language_info": {
   "codemirror_mode": {
    "name": "ipython",
    "version": 3
   },
   "file_extension": ".py",
   "mimetype": "text/x-python",
   "name": "python",
   "nbconvert_exporter": "python",
   "pygments_lexer": "ipython3",
   "version": "3.10.9"
  }
 },
 "nbformat": 4,
 "nbformat_minor": 2
}
