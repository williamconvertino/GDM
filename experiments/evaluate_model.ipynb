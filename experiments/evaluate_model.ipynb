{
 "cells": [
  {
   "cell_type": "code",
   "execution_count": 1,
   "metadata": {},
   "outputs": [
    {
     "name": "stdout",
     "output_type": "stream",
     "text": [
      "Failed to install PyTorch\n",
      "Requirements installed\n"
     ]
    },
    {
     "name": "stderr",
     "output_type": "stream",
     "text": [
      "c:\\Users\\will\\AppData\\Local\\Programs\\Python\\Python310\\lib\\site-packages\\tqdm\\auto.py:21: TqdmWarning: IProgress not found. Please update jupyter and ipywidgets. See https://ipywidgets.readthedocs.io/en/stable/user_install.html\n",
      "  from .autonotebook import tqdm as notebook_tqdm\n"
     ]
    }
   ],
   "source": [
    "import notebook_setup\n",
    "import torch\n",
    "import os\n",
    "import re\n",
    "from src.models import GPT, gdGPT, GPTConfig\n",
    "from src.datasets import TinyStoriesDataset\n",
    "from src.tokenizers import TinyStoriesTokenizer\n",
    "from src.evaluation import evaluate_model_outputs"
   ]
  },
  {
   "cell_type": "code",
   "execution_count": 2,
   "metadata": {},
   "outputs": [],
   "source": [
    "tokenizer = TinyStoriesTokenizer()"
   ]
  },
  {
   "cell_type": "code",
   "execution_count": 3,
   "metadata": {},
   "outputs": [],
   "source": [
    "CONTEXT_SIZE = 256\n",
    "D_EMBED = 512\n",
    "D_FF = D_EMBED * 4\n",
    "N_LAYER = 1\n",
    "N_HEAD = 8\n",
    "USE_ATTN = True\n",
    "USE_FF = False\n",
    "\n",
    "VOCAB_SIZE = len(tokenizer)"
   ]
  },
  {
   "cell_type": "code",
   "execution_count": 4,
   "metadata": {},
   "outputs": [],
   "source": [
    "config = GPTConfig(\n",
    "  context_size=CONTEXT_SIZE,\n",
    "  d_embed=D_EMBED,\n",
    "  d_ff=D_FF,\n",
    "  n_layer=N_LAYER,\n",
    "  n_head=N_HEAD,\n",
    "  use_attn=USE_ATTN,\n",
    "  use_ff=USE_FF,\n",
    "  vocab_size=VOCAB_SIZE\n",
    ")"
   ]
  },
  {
   "cell_type": "code",
   "execution_count": 5,
   "metadata": {},
   "outputs": [
    {
     "name": "stdout",
     "output_type": "stream",
     "text": [
      "number of parameters: 13.51M\n"
     ]
    }
   ],
   "source": [
    "model = gdGPT(config)"
   ]
  },
  {
   "cell_type": "code",
   "execution_count": 6,
   "metadata": {},
   "outputs": [
    {
     "name": "stdout",
     "output_type": "stream",
     "text": [
      "Loaded model gdGPT_8H_1L_512E_noFF from epoch 0\n",
      "====================================================================================================\n",
      "Single Word:\n",
      "====================================================================================================\n"
     ]
    },
    {
     "name": "stderr",
     "output_type": "stream",
     "text": [
      "c:\\Users\\will\\Desktop\\gdGPT\\src\\evaluation\\evaluate.py:57: FutureWarning: You are using `torch.load` with `weights_only=False` (the current default value), which uses the default pickle module implicitly. It is possible to construct malicious pickle data which will execute arbitrary code during unpickling (See https://github.com/pytorch/pytorch/blob/main/SECURITY.md#untrusted-models for more details). In a future release, the default value for `weights_only` will be flipped to `True`. This limits the functions that could be executed during unpickling. Arbitrary objects will no longer be allowed to be loaded via this mode unless they are explicitly allowlisted by the user via `torch.serialization.add_safe_globals`. We recommend you start setting `weights_only=True` for any use case where you don't have full control of the loaded file. Please open an issue on GitHub for any issues related to this experimental feature.\n",
      "  model_state_dict = torch.load(f'{MODEL_BASE_DIR}/{model.name}/{model.name}_epoch_{most_recent_epoch}.pt', map_location=torch.device('cpu'))\n"
     ]
    },
    {
     "name": "stdout",
     "output_type": "stream",
     "text": [
      "Once [ upon a time, there was a little girl named Lily. She loved to play outside in the sunshine. One day, she saw a big tree with a big tree. The tree was very tall and strong.\n",
      "\n",
      "Lily was scared, but she wanted to help her. She asked her mom if she could help her. Her mom said yes, but she was too. She said, \"I'm sorry, Lily. I didn't know what to do.\n",
      "\n",
      "Her mom said, \"]\n",
      "----------------------------------------------------------------------------------------------------\n",
      "a [aaaaaaaaaaaaaaaaaaaaaaaaaaaaaaaaaaaaaaaaaaaaaaaaaaaaaaaaaaaaaaaaaaaaaaaaaaaaaaaaaaaaaaaaaaaaaaaaaaaa]\n",
      "----------------------------------------------------------------------------------------------------\n",
      "to [gether and he was so excited to see what he was doing with his mom and dad.\n",
      "\n",
      "\"Look, there, a little boy named Timmy. Timmy loved to play with his toys and run around the park. One day, Timmy's mom told him to go to the park. Timmy was so excited to see his mom and dad.\n",
      "\n",
      "Timmy's mom saw him and asked him to help him. Timmy was so excited to see his mom and dad.\n",
      "\n",
      "Timmy's mom told]\n",
      "----------------------------------------------------------------------------------------------------\n",
      "he [ardardardardardardardardardardardardardardardardardardardardardardardardardardardardardardardardardardardardardardardardardardardardardardardardardardardardardardardardardardardardardardardardardardardardardardardardardardardardardardardardardardardardardardardardardardardardardardardardardardardard]\n",
      "----------------------------------------------------------------------------------------------------\n",
      "====================================================================================================\n",
      "Short Texts:\n",
      "====================================================================================================\n",
      "Once upon a time, [ there was a little girl named Lily. She loved to play outside in the sunshine. One day, she saw a big tree with a big tree. The tree was very tall and strong.\n",
      "\n",
      "Lily was scared, but she wanted to help her. She asked her mom if she could help her. Her mom said yes, but she was too. She said, \"I'm sorry, Lily. I didn't know what to do.\n",
      "\n",
      "Her mom said, \"Don't worry,]\n",
      "----------------------------------------------------------------------------------------------------\n",
      "In a land far far away, [ there was a little girl named Lily. She loved to play with her toys and her friends. One day, she saw a big box of the park. She wanted to play with her toys, but she was too. She said, \"No, it, mine! I found it!\"\n",
      "\n",
      "Lily was sad. She wanted to play with her toys, but she didn't want to share her toys. She said, \"No, I don't want to play with you.\"\n",
      "\n",
      "Lily]\n",
      "----------------------------------------------------------------------------------------------------\n",
      "There was a princess named [ Lily. She loved to play with her toys. One day, Lily's mom asked her to help her. She said, \"Lily, you can't play with me. I want to play with you.\"\n",
      "\n",
      "Lily and Lily felt sad. She wanted to play with her toys, but she didn't want to share her toys. She said, \"Lily, you are very pretty. Can I play with you?\" Lily asked.\n",
      "\n",
      "Lily and Ben nodded. They said, \"Yes]\n",
      "----------------------------------------------------------------------------------------------------\n",
      "She lived in a castle with [ a big castle. She was very happy and she had a big castle. She was very proud of her castle. She had a big castle with her castle. She was very proud of her castle. She was very proud of her castle. She was very proud of her castle. She was very proud of her castle. She was very proud of her castle. She was very proud of her castle. She was very proud of her castle. She was very proud of her castle. She was proud of]\n",
      "----------------------------------------------------------------------------------------------------\n",
      "She had a pet dragon named [ Lily. She loved to play with her toys. One day, Lily's mom told her to go to the park. Lily was very excited. She wanted to go to the park. She saw a big slide and wanted to go on the slide. She wanted to go on the slide. She ran to her mom and dad. She said, \"Lily, you are very pretty. You are very kind. You are very kind and helpful.\"\n",
      "\n",
      "Lily and Ben felt sad. They wanted to]\n",
      "----------------------------------------------------------------------------------------------------\n",
      "The dragon was very [ brave knight and knight knight sword knight sword sword sword sword sword sword sword sword sword sword sword sword sword sword sword sword sword sword sword sword sword sword sword sword sword sword sword sword sword sword sword sword sword sword sword sword sword sword sword sword sword sword sword sword sword sword sword sword sword sword sword sword sword sword sword sword sword sword sword sword sword sword sword sword sword sword sword sword sword sword sword sword sword sword sword sword sword sword sword sword sword sword sword sword sword sword sword sword sword sword sword sword sword]\n",
      "----------------------------------------------------------------------------------------------------\n",
      "One day, the princess [ was a princess princess princess princess princess princess princess princess princess princess princess princess princess princess princess princess princess princess princess princess princess princess princess princess princess princess princess princess princess princess princess princess princess princess princess princess princess princess princess princess princess princess princess princess princess princess princess princess princess princess princess princess princess princess princess princess princess princess princess princess princess princess princess princess princess princess princess princess princess princess princess princess princess princess princess princess princess princess princess princess princess princess princess princess princess princess princess princess princess princess princess princess princess princess princess princess princess princess]\n",
      "----------------------------------------------------------------------------------------------------\n",
      "====================================================================================================\n",
      "Long Texts:\n",
      "====================================================================================================\n",
      "Once upon a time, in a land far far away, there was a princess named Alice. She lived in a castle with her pet dragon named Bob. The dragon was very friendly. One day, the princess went on a walk in the forest. [\n",
      "\n",
      "One day, a little girl named Lily. She was very excited to see her friend. She asked her friend, \"Can I play with you?\"\n",
      "\n",
      "Her friend replied, \"Yes, I can help you. But you can't find me.\"\n",
      "\n",
      "Lily was sad and scared. She said, \"I want to help you, but I have to be careful. I don't want to be my friend.\"\n",
      "\n",
      "Lily and Ben nodded. They said, \"Okay,]\n",
      "----------------------------------------------------------------------------------------------------\n",
      "Long ago, in a kingdom by the sea, there was a king named Arthur. He lived in a castle with his queen. One day, the king went to [ the castle and saw a big castle. The king was very happy and said, \"Hello, king. I am a king of my castle. I am very king and queen. I am king of king and queen. I am king of king and queen. I am king king queen king and queen king. queen king king queen king king queen king king queen king king king queen king king king king king king king king king king king king king king king king king king king king king king king king]\n",
      "----------------------------------------------------------------------------------------------------\n",
      "Deep in the heart of the forest, there was a fox named Max. Max was a good fox. [ He was very happy and he had a big smile. He was very happy and he had a big smile. He was very happy and he had a big smile. He was very happy. He had a big smile on his face. He was very happy and he had a big smile. He loved to play with his friends.Once upon a time, there was a little boy named Tim. He loved to play with his toys. One day, he saw a big box of a big box]\n",
      "----------------------------------------------------------------------------------------------------\n",
      "There once was a young boy named Dan. Dan liked to run more than anything in the world. One day, [ he saw a big tree with a big smile. He wanted to climb it.\n",
      "\n",
      "\"Let's go to the park!\" Tom said.\n",
      "\n",
      "\"OK, but be careful. Don't be afraid. It might be dangerous.\"\n",
      "\n",
      "Tom and Sam nodded. He was scared. He ran to the door and ran to the door. He opened the door and saw a big door. He opened the door and opened it. Inside was a big box. Inside the box was a big]\n",
      "----------------------------------------------------------------------------------------------------\n",
      "In a small town lived a young girl named Lily. Lily was a [ big, red ball. She loved to play with her toys. One day, Lily's mom asked her to help her. She said, \"Lily, you can't play with your toys. But you have to be careful with your toys. You can't have to be careful.\"\n",
      "\n",
      "Lily and Ben nodded. They said, \"Okay, mom. I will be careful with you.\"\n",
      "\n",
      "Lily and Ben nodded. They liked to play with the toys. They had a lot of fun]\n",
      "----------------------------------------------------------------------------------------------------\n"
     ]
    }
   ],
   "source": [
    "evaluate_model_outputs(model, tokenizer)"
   ]
  }
 ],
 "metadata": {
  "kernelspec": {
   "display_name": "Python 3",
   "language": "python",
   "name": "python3"
  },
  "language_info": {
   "codemirror_mode": {
    "name": "ipython",
    "version": 3
   },
   "file_extension": ".py",
   "mimetype": "text/x-python",
   "name": "python",
   "nbconvert_exporter": "python",
   "pygments_lexer": "ipython3",
   "version": "3.10.9"
  }
 },
 "nbformat": 4,
 "nbformat_minor": 2
}
