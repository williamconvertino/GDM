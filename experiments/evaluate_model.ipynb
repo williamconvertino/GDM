{
 "cells": [
  {
   "cell_type": "code",
   "execution_count": null,
   "metadata": {},
   "outputs": [],
   "source": [
    "import notebook_setup\n",
    "import torch\n",
    "import os\n",
    "import re\n",
    "from src.models import GPT, gdGPT, GPTConfig\n",
    "from src.datasets import TinyStoriesDataset\n",
    "from src.tokenizers import TinyStoriesTokenizer\n",
    "from src.evaluation import evaluate_model_outputs"
   ]
  },
  {
   "cell_type": "code",
   "execution_count": null,
   "metadata": {},
   "outputs": [],
   "source": [
    "tokenizer = TinyStoriesTokenizer()"
   ]
  },
  {
   "cell_type": "code",
   "execution_count": null,
   "metadata": {},
   "outputs": [],
   "source": [
    "CONTEXT_SIZE = 256\n",
    "D_EMBED = 512\n",
    "D_FF = D_EMBED * 4\n",
    "N_LAYER = 1\n",
    "N_HEAD = 8\n",
    "USE_ATTN = True\n",
    "USE_FF = False\n",
    "\n",
    "VOCAB_SIZE = len(tokenizer)"
   ]
  },
  {
   "cell_type": "code",
   "execution_count": null,
   "metadata": {},
   "outputs": [],
   "source": [
    "config = GPTConfig(\n",
    "  context_size=CONTEXT_SIZE,\n",
    "  d_embed=D_EMBED,\n",
    "  d_ff=D_FF,\n",
    "  n_layer=N_LAYER,\n",
    "  n_head=N_HEAD,\n",
    "  use_attn=USE_ATTN,\n",
    "  use_ff=USE_FF,\n",
    "  vocab_size=VOCAB_SIZE\n",
    ")"
   ]
  },
  {
   "cell_type": "code",
   "execution_count": null,
   "metadata": {},
   "outputs": [],
   "source": [
    "model = gdGPT(config)"
   ]
  },
  {
   "cell_type": "code",
   "execution_count": null,
   "metadata": {},
   "outputs": [],
   "source": [
    "evaluate_model_outputs(model, tokenizer)"
   ]
  }
 ],
 "metadata": {
  "kernelspec": {
   "display_name": "Python 3",
   "language": "python",
   "name": "python3"
  },
  "language_info": {
   "name": "python",
   "version": "3.10.9"
  }
 },
 "nbformat": 4,
 "nbformat_minor": 2
}
