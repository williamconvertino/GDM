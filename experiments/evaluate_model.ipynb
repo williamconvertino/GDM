{
 "cells": [
  {
   "cell_type": "code",
   "execution_count": 1,
   "metadata": {},
   "outputs": [
    {
     "name": "stdout",
     "output_type": "stream",
     "text": [
      "Failed to install PyTorch\n",
      "Requirements installed\n"
     ]
    },
    {
     "name": "stderr",
     "output_type": "stream",
     "text": [
      "c:\\Users\\will\\AppData\\Local\\Programs\\Python\\Python310\\lib\\site-packages\\tqdm\\auto.py:21: TqdmWarning: IProgress not found. Please update jupyter and ipywidgets. See https://ipywidgets.readthedocs.io/en/stable/user_install.html\n",
      "  from .autonotebook import tqdm as notebook_tqdm\n"
     ]
    }
   ],
   "source": [
    "import notebook_setup\n",
    "import torch\n",
    "import os\n",
    "import re\n",
    "from src.models import GPT, gdGPT, GPTConfig\n",
    "from src.datasets import TinyStoriesDataset\n",
    "from src.tokenizers import TinyStoriesTokenizer\n",
    "from src.evaluation import evaluate_model_outputs"
   ]
  },
  {
   "cell_type": "code",
   "execution_count": 2,
   "metadata": {},
   "outputs": [],
   "source": [
    "tokenizer = TinyStoriesTokenizer()"
   ]
  },
  {
   "cell_type": "code",
   "execution_count": 3,
   "metadata": {},
   "outputs": [],
   "source": [
    "CONTEXT_SIZE = 256\n",
    "D_EMBED = 512\n",
    "D_FF = D_EMBED * 4\n",
    "N_LAYER = 1\n",
    "N_HEAD = 8\n",
    "USE_ATTN = True\n",
    "USE_FF = True\n",
    "\n",
    "VOCAB_SIZE = len(tokenizer)"
   ]
  },
  {
   "cell_type": "code",
   "execution_count": 4,
   "metadata": {},
   "outputs": [],
   "source": [
    "config = GPTConfig(\n",
    "  context_size=CONTEXT_SIZE,\n",
    "  d_embed=D_EMBED,\n",
    "  d_ff=D_FF,\n",
    "  n_layer=N_LAYER,\n",
    "  n_head=N_HEAD,\n",
    "  use_attn=USE_ATTN,\n",
    "  use_ff=USE_FF,\n",
    "  vocab_size=VOCAB_SIZE\n",
    ")"
   ]
  },
  {
   "cell_type": "code",
   "execution_count": null,
   "metadata": {},
   "outputs": [
    {
     "name": "stdout",
     "output_type": "stream",
     "text": [
      "number of parameters: 15.61M\n"
     ]
    }
   ],
   "source": [
    "model = GPT(config)"
   ]
  },
  {
   "cell_type": "code",
   "execution_count": 6,
   "metadata": {},
   "outputs": [
    {
     "name": "stdout",
     "output_type": "stream",
     "text": [
      "Loaded model gdGPT_8H_1L_512E from epoch 0\n",
      "====================================================================================================\n",
      "Single Word:\n",
      "====================================================================================================\n"
     ]
    },
    {
     "name": "stderr",
     "output_type": "stream",
     "text": [
      "c:\\Users\\will\\Desktop\\gdGPT\\src\\evaluation\\evaluate.py:57: FutureWarning: You are using `torch.load` with `weights_only=False` (the current default value), which uses the default pickle module implicitly. It is possible to construct malicious pickle data which will execute arbitrary code during unpickling (See https://github.com/pytorch/pytorch/blob/main/SECURITY.md#untrusted-models for more details). In a future release, the default value for `weights_only` will be flipped to `True`. This limits the functions that could be executed during unpickling. Arbitrary objects will no longer be allowed to be loaded via this mode unless they are explicitly allowlisted by the user via `torch.serialization.add_safe_globals`. We recommend you start setting `weights_only=True` for any use case where you don't have full control of the loaded file. Please open an issue on GitHub for any issues related to this experimental feature.\n",
      "  model_state_dict = torch.load(f'{MODEL_BASE_DIR}/{model.name}/{model.name}_epoch_{most_recent_epoch}.pt', map_location=torch.device('cpu'))\n"
     ]
    },
    {
     "name": "stdout",
     "output_type": "stream",
     "text": [
      "Once [ upon a time, there was a little girl named Lily. She loved to play outside in the sunshine. One day, she saw a big, scary monster. The monster was very scary and scary. Lily was scared and didn't know what to do.\n",
      "\n",
      "Lily's mommy came outside and saw the monster. She was scared and didn't know what to do. She asked her mommy, \"What's wrong, Lily?\"\n",
      "\n",
      "\"I'm sorry, Lily. I didn't know what]\n",
      "a [ had a special surprise. She had found a special surprise. It was a special surprise. It was a special surprise. It was a special surprise. It was a special surprise. It was a surprise.\n",
      "\n",
      "The surprise was a surprise. It was a surprise. It was a surprise. It was a surprise. It was a surprise. It was a surprise. It was a surprise. It had a surprise. It was a surprise. It had a surprise. It was a surprise. It]\n",
      "to [eeea was so excited to go to the park. She ran to the swings and slides down the slide. She was so happy!\n",
      "\n",
      "But then, she saw something else. It was a big, shiny rock. She picked it up and showed it to her mom. Her mom said, \"That's a great idea, Lily. You can use the microscope to make a new one.\"\n",
      "\n",
      "Lily was so happy and thanked her mom. She said, \"Thank you,]\n",
      "he [s. He is not a toy. He is a toy. He is a toy. He is a toy. He is a toy. He is a toy. He is a toy. He is a toy. He is a toy. He is a toy. He is a toy. He is a toy. He is a toy. He is a toy. He is a toy. He is a toy. He is a toy. He is a toy. He is a toy. He is]\n",
      "====================================================================================================\n",
      "Short Texts:\n",
      "====================================================================================================\n",
      "Once upon a time, [ there was a little girl named Lily. She loved to play outside in the sunshine. One day, she saw a big, scary monster. The monster was very scary and scary. Lily was scared and didn't know what to do.\n",
      "\n",
      "Lily's mommy came outside and saw the monster. She was scared and didn't know what to do. She asked her mommy, \"What's wrong, Lily?\"\n",
      "\n",
      "\"I'm sorry, Lily. I didn't know what to do. I]\n",
      "In a land far far away, [ there was a little girl named Lily. She loved to play outside in the sun. One day, she saw a big, scary monster. The monster was very scary and scary. Lily was scared and didn't know what to do.\n",
      "\n",
      "Lily's mom saw her and said, \"Don't worry, Lily. We can go to the park and play with you.\"\n",
      "\n",
      "Lily was happy to hear that. She ran to the park and saw a big tree. She wanted to climb it]\n",
      "There was a princess named [ Lily. She loved to play with her toys and run around the house. One day, she saw a big box in the corner of the room. She wanted to play with it, but she was too small. She asked her mom, \"Can I play with you?\"\n",
      "\n",
      "Her mom said, \"Yes, you can play with the toys. But you have to be careful and listen to me. You have to be careful and listen to me.\"\n",
      "\n",
      "Lily nodded and said, \"]\n",
      "She lived in a castle with [ her family. One day, she went to the castle and saw a big castle. She wanted to make it look like a castle. She asked her mom if she could have it. Her mom said yes, but only if she was too small.\n",
      "\n",
      "Lily was sad. She wanted to make her happy. She went to the kitchen and saw a big box of blocks. She wanted to make a castle with her blocks. She put them in her box and put them in the box. She]\n",
      "She had a pet dragon named [ Leo. Leo was a big lion. He was very happy.\n",
      "\n",
      "One day, Leo saw a big lion in the jungle. He wanted to eat the lion, but he was too fast. He roared and roared.\n",
      "\n",
      "\"Roar! I am a lion!\" Tom said.\n",
      "\n",
      "\"Roar! I am a lion!\" Tom said.\n",
      "\n",
      "\"Roar!\" Tom said. \"You are a lion!\"\n",
      "\n",
      "They ran to the lion and tried to catch him. But the]\n",
      "The dragon was very [ happy. He had a big smile on his face. He was so happy to have a new friend.Once upon a time, there was a little girl named Lily. She loved to play outside in the sunshine. One day, she saw a big, scary monster. The monster was very scary and scary. Lily was scared and didn't know what to do.\n",
      "\n",
      "Suddenly, a big monster came and saw the monster. The monster was very scary and scary. Lily was scared and ran]\n",
      "One day, the princess [ went to the park. She saw a big, scary monster. The monster was very scary. The monster was scared and ran away. The monster was very scared.\n",
      "\n",
      "The monster said, \"Don't be scared, I will protect you. I will protect you.\" The monster was scared, but he was brave. He said, \"Don't worry, I will help you. I will protect you.\"\n",
      "\n",
      "The monster was very brave and he said, \"I'm sorry, I]\n",
      "====================================================================================================\n",
      "Long Texts:\n",
      "====================================================================================================\n",
      "Once upon a time, in a land far far away, there was a princess named Alice. She lived in a castle with her pet dragon named Bob. The dragon was very friendly. One day, the princess went on a walk in the forest. [\n",
      "\n",
      "As she walked, she saw a big, scary monster. The monster was very scary. The monster was scared and ran away.\n",
      "\n",
      "Lily was scared and ran away. But the monster was too fast. The monster chased her and ran away.\n",
      "\n",
      "Lily was very scared. She ran back to her house and hid behind a tree. She was scared and ran away.\n",
      "\n",
      "The monster was very scared. She ran away from the monster. She was scared and ran away.]\n",
      "Long ago, in a kingdom by the sea, there was a king named Arthur. He lived in a castle with his queen. One day, the king went to [ the castle and saw a big castle. He wanted to make the castle look like a castle. He asked his friend, a king, a king, and a queen.\n",
      "\n",
      "\"Hello, king,\" Lily said. \"Do you want to play with me?\"\n",
      "\n",
      "The king said, \"Yes, I do. But I want to be your friend. I want to play with you.\"\n",
      "\n",
      "The king said, \"No, I want to play with you. I want to play]\n",
      "Deep in the heart of the forest, there was a fox named Max. Max was a good fox.There once was a young boy named Dan. Dan liked to run more than anything in the world. One day, [ Max saw a big, scary monster. He was very scared and didn't know what to do.\n",
      "\n",
      "Max decided to go to the park and play with his friends. They all played together and had lots of fun.\n",
      "\n",
      "But then, Max saw a big dog. The dog was barking and growling. Max was scared and ran away. Max was scared and ran away.\n",
      "\n",
      "Max's mom saw what happened and came to help. She saw Max and Max and said, \"Don]\n",
      "In a small town lived a young girl named Lily. Lily was a [ little girl named Lily. She loved to play outside in the park. One day, she saw a big, scary dog. The dog was barking and growling. Lily was scared and didn't know what to do.\n",
      "\n",
      "Lily's mom came outside and saw the dog. She was scared and didn't know what to do. She ran to the dog and said, \"Don't worry, Lily. I will help you.\"\n",
      "\n",
      "Lily felt better and went to the park. She saw a]\n"
     ]
    }
   ],
   "source": [
    "evaluate_model_outputs(model, tokenizer)"
   ]
  }
 ],
 "metadata": {
  "kernelspec": {
   "display_name": "Python 3",
   "language": "python",
   "name": "python3"
  },
  "language_info": {
   "codemirror_mode": {
    "name": "ipython",
    "version": 3
   },
   "file_extension": ".py",
   "mimetype": "text/x-python",
   "name": "python",
   "nbconvert_exporter": "python",
   "pygments_lexer": "ipython3",
   "version": "3.10.9"
  }
 },
 "nbformat": 4,
 "nbformat_minor": 2
}
